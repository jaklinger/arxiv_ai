{
 "cells": [
  {
   "cell_type": "markdown",
   "metadata": {},
   "source": [
    "The MAG data is stored in postgres `jsonb` format as described below:"
   ]
  },
  {
   "cell_type": "raw",
   "metadata": {},
   "source": [
    "Table \"public.microsoft_academic_graph\"\n",
    " Column |     Type      | Collation | Nullable | Default | Storage  | Stats target | Description \n",
    "--------+---------------+-----------+----------+---------+----------+--------------+-------------\n",
    " id     | character(36) |           | not null |         | extended |              | \n",
    " paper  | jsonb         |           |          |         | extended |              | \n",
    "Indexes:\n",
    "    \"microsoft_academic_graph_pkey\" PRIMARY KEY, btree (id)\n",
    "    \"doi_index\" btree ((((paper ->> 'doi'::text))::character varying(255)))\n",
    "    \"lang_index\" btree ((paper ->> 'lang'::text))\n",
    "    \"papers_authors_name_gin_idx\" gin ((paper -> 'authors'::text) jsonb_path_ops)\n",
    "    \"title_index\" btree ((((paper ->> 'title'::text))::character varying(300)))\n",
    "    \"year_index\" btree (((paper ->> 'year'::text)::integer))\n"
   ]
  },
  {
   "cell_type": "code",
   "execution_count": 140,
   "metadata": {},
   "outputs": [],
   "source": [
    "import pandas as pd\n",
    "import os\n",
    "from sqlalchemy import create_engine\n",
    "from sqlalchemy.sql import text as sql_text\n",
    "from psycopg2.extras import execute_batch\n",
    "import psycopg2\n",
    "done_files = set()"
   ]
  },
  {
   "cell_type": "code",
   "execution_count": 132,
   "metadata": {},
   "outputs": [],
   "source": [
    "top_dir = \"data/\"\n",
    "argslist = []\n",
    "idslist = []\n",
    "for file_name in os.listdir(top_dir):\n",
    "    if file_name in done_files:\n",
    "        continue\n",
    "    if not (file_name.startswith(\"arxiv\") and file_name.endswith(\".json\")):\n",
    "        continue\n",
    "    done_files.add(file_name)\n",
    "    _df = pd.read_json(top_dir+file_name,orient=\"records\")    \n",
    "    for _, row in _df.iterrows():\n",
    "        title = \"\".join(row[\"raw_title\"].split(\"\\n \"))\n",
    "        title = title.replace(\"'\",\"''\")\n",
    "        title = title.replace('\"','\"\"')\n",
    "        title = title.replace(\"%\",\"%%\")\n",
    "        idslist.append(row['id'])\n",
    "        argslist.append(title)"
   ]
  },
  {
   "cell_type": "code",
   "execution_count": 141,
   "metadata": {},
   "outputs": [],
   "source": [
    "with open('/Users/jklinger/Nesta-AWS/AWS-RDS-config/open-academic-graph.config') as f:\n",
    "    host, port, database, user, password = f.read().split(':')\n",
    "database_uri = 'postgresql://{}:{}@{}/{}'.format(user, password, host, \"microsoft_academic_graph\")\n",
    "con = create_engine(database_uri)\n",
    "#con = psycopg2.connect(database_uri)\n",
    "#cur = con.cursor()\n",
    "#query = '''select id from microsoft_academic_graph where ((((paper ->> 'title'::text))::character varying(300))) = %s'''"
   ]
  },
  {
   "cell_type": "code",
   "execution_count": 142,
   "metadata": {},
   "outputs": [],
   "source": [
    "query = '''select id, paper ->> 'title'\n",
    "from microsoft_academic_graph\n",
    "where ((((paper ->> 'title'::text))::character varying(300)))\n",
    "in :titles;\n",
    "'''\n",
    "\n",
    "# Stolen from https://stackoverflow.com/a/434328/1571593\n",
    "def chunker(seq, size):\n",
    "    return (seq[pos:pos + size] for pos in range(0, len(seq), size))"
   ]
  },
  {
   "cell_type": "code",
   "execution_count": 143,
   "metadata": {},
   "outputs": [],
   "source": [
    "output = []\n",
    "for arg_chunk, id_chunk in zip(chunker(argslist, 100), chunker(idslist, 100)):\n",
    "    exec_result = con.execute(sql_text(query), titles=tuple(arg_chunk))\n",
    "    for mag_id, title in exec_result.fetchall():\n",
    "        idx = arg_chunk.index(title)\n",
    "        output.append(dict(arxiv_id=id_chunk[idx], mag_id=mag_id))"
   ]
  },
  {
   "cell_type": "code",
   "execution_count": 144,
   "metadata": {},
   "outputs": [],
   "source": [
    "pd.DataFrame(output).to_json(\"data/mag_arxiv_match.json\", orient=\"records\")"
   ]
  },
  {
   "cell_type": "code",
   "execution_count": 145,
   "metadata": {},
   "outputs": [
    {
     "data": {
      "text/plain": [
       "832104"
      ]
     },
     "execution_count": 145,
     "metadata": {},
     "output_type": "execute_result"
    }
   ],
   "source": [
    "len(output)"
   ]
  }
 ],
 "metadata": {
  "kernelspec": {
   "display_name": "Python [conda env:py36]",
   "language": "python",
   "name": "conda-env-py36-py"
  },
  "language_info": {
   "codemirror_mode": {
    "name": "ipython",
    "version": 3
   },
   "file_extension": ".py",
   "mimetype": "text/x-python",
   "name": "python",
   "nbconvert_exporter": "python",
   "pygments_lexer": "ipython3",
   "version": "3.6.3"
  }
 },
 "nbformat": 4,
 "nbformat_minor": 2
}
