{
 "cells": [
  {
   "cell_type": "code",
   "execution_count": 131,
   "metadata": {},
   "outputs": [],
   "source": [
    "import pandas as pd\n",
    "import os\n",
    "from sqlalchemy import create_engine\n",
    "from sqlalchemy.sql import text as sql_text\n",
    "from psycopg2.extras import execute_batch\n",
    "import psycopg2\n",
    "done_files = set()"
   ]
  },
  {
   "cell_type": "code",
   "execution_count": 132,
   "metadata": {},
   "outputs": [],
   "source": [
    "top_dir = \"data/\"\n",
    "argslist = []\n",
    "idslist = []\n",
    "for file_name in os.listdir(top_dir):\n",
    "    if file_name in done_files:\n",
    "        continue\n",
    "    if not (file_name.startswith(\"arxiv\") and file_name.endswith(\".json\")):\n",
    "        continue\n",
    "    done_files.add(file_name)\n",
    "    _df = pd.read_json(top_dir+file_name,orient=\"records\")    \n",
    "    for _, row in _df.iterrows():\n",
    "        title = \"\".join(row[\"raw_title\"].split(\"\\n \"))\n",
    "        title = title.replace(\"'\",\"''\")\n",
    "        title = title.replace('\"','\"\"')\n",
    "        title = title.replace(\"%\",\"%%\")\n",
    "        idslist.append(row['id'])\n",
    "        argslist.append(title)"
   ]
  },
  {
   "cell_type": "code",
   "execution_count": 133,
   "metadata": {},
   "outputs": [],
   "source": [
    "with open('/Users/jklinger/Nesta-AWS/AWS-RDS-config/open-academic-graph.config') as f:\n",
    "    host, port, database, user, password = f.read().split(':')\n",
    "database_uri = 'postgresql://{}:{}@{}/{}'.format(user, password, host, \"microsoft_academic_graph\")\n",
    "con = create_engine(database_uri)\n",
    "#con = psycopg2.connect(database_uri)\n",
    "#cur = con.cursor()\n",
    "#query = '''select id from microsoft_academic_graph where ((((paper ->> 'title'::text))::character varying(300))) = %s'''"
   ]
  },
  {
   "cell_type": "code",
   "execution_count": 138,
   "metadata": {},
   "outputs": [],
   "source": [
    "query = '''select id, paper ->> 'title'\n",
    "from microsoft_academic_graph\n",
    "where ((((paper ->> 'title'::text))::character varying(300)))\n",
    "in :titles;\n",
    "'''\n",
    "\n",
    "# Stolen from https://stackoverflow.com/a/434328/1571593\n",
    "def chunker(seq, size):\n",
    "    return (seq[pos:pos + size] for pos in range(0, len(seq), size))\n"
   ]
  },
  {
   "cell_type": "code",
   "execution_count": 139,
   "metadata": {},
   "outputs": [
    {
     "name": "stdout",
     "output_type": "stream",
     "text": [
      "oai:arXiv.org:0704.0004 A determinant of Stirling cycle numbers counts unlabeled acyclic single-source automata\n",
      "oai:arXiv.org:0704.0089 A general approach to statistical modeling of physical laws: nonparametric regression\n",
      "oai:arXiv.org:0704.0049 An algorithm for the classification of smooth Fano polytopes\n",
      "oai:arXiv.org:0704.0068 A Note About the {Ki(z)} Functions\n",
      "oai:arXiv.org:0704.0087 Approximate solutions to the Dirichlet problem for harmonic maps between hyperbolic spaces\n",
      "oai:arXiv.org:0704.0036 A remark on the number of steady states in a multiple futile cycle\n",
      "oai:arXiv.org:0704.0006 Bosonic characters of atomic Cooper pairs across resonance\n",
      "oai:arXiv.org:0704.0001 Calculation of prompt diphoton production cross sections at Tevatron and LHC energies\n",
      "oai:arXiv.org:0704.0070 Coincidence of the oscillations in the dipole transition and in the persistent current of narrow quantum rings with two electrons\n",
      "oai:arXiv.org:0704.0011 Computing genus 2 Hilbert-Siegel modular forms over $\\Q(\\sqrt{5})$ via the Jacquet-Langlands correspondence\n",
      "oai:arXiv.org:0704.0097 Conformal Field Theory and Operator Algebras\n",
      "oai:arXiv.org:0704.0035 Convergence of the discrete dipole approximation. II. An extrapolation technique to increase the accuracy\n",
      "oai:arXiv.org:0704.0035 Convergence of the discrete dipole approximation. II. An extrapolation technique to increase the accuracy\n",
      "oai:arXiv.org:0704.0035 Convergence of the discrete dipole approximation. II. An extrapolation technique to increase the accuracy\n",
      "oai:arXiv.org:0704.0033 Convergence of the discrete dipole approximation. I. Theoretical analysis\n",
      "oai:arXiv.org:0704.0033 Convergence of the discrete dipole approximation. I. Theoretical analysis\n",
      "oai:arXiv.org:0704.0033 Convergence of the discrete dipole approximation. I. Theoretical analysis\n",
      "oai:arXiv.org:0704.0060 Coulomb excitation of unstable nuclei at intermediate energies\n",
      "oai:arXiv.org:0704.0076 CP violation in beauty decays\n",
      "oai:arXiv.org:0704.0031 Crystal channeling of LHC forward protons with preserved distribution in phase space\n",
      "oai:arXiv.org:0704.0012 Distribution of integral Fourier Coefficients of a Modular Form of Half Integral Weight Modulo Primes\n",
      "oai:arXiv.org:0704.0069 Dynamical Objects for Cohomologically Expanding Maps\n",
      "oai:arXiv.org:0704.0045 Evolution of solitary waves and undular bores in shallow-water flows over a gradual slope with bottom friction\n",
      "oai:arXiv.org:0704.0063 Experimental efforts in search of 76Ge Neutrinoless Double Beta Decay\n",
      "oai:arXiv.org:0704.0015 Fermionic superstring loop amplitudes in the pure spinor formalism\n",
      "oai:arXiv.org:0704.0027 Filling-Factor-Dependent Magnetophonon Resonance in Graphene\n",
      "oai:arXiv.org:0704.0084 Formation of density singularities in ideal hydrodynamics of freely cooling inelastic gases: a family of exact solutions\n",
      "oai:arXiv.org:0704.0024 Formation of quasi-solitons in transverse confined ferromagnetic film media\n",
      "oai:arXiv.org:0704.0005 From dyadic $\\Lambda_{\\alpha}$ to $\\Lambda_{\\alpha}$\n",
      "oai:arXiv.org:0704.0042 General System theory, Like-Quantum Semantics and Fuzzy Sets\n",
      "oai:arXiv.org:0704.0048 Inference on white dwarf binary systems using the first round Mock LISA Data Challenges data sets\n",
      "oai:arXiv.org:0704.0074 Injective Morita contexts (revisited)\n",
      "oai:arXiv.org:0704.0018 In quest of a generalized Callias index theorem\n",
      "oai:arXiv.org:0704.0047 Intelligent location of simultaneously active acoustic emission sources: Part I\n",
      "oai:arXiv.org:0704.0050 Intelligent location of simultaneously active acoustic emission sources: Part II\n",
      "oai:arXiv.org:0704.0014 Iterated integral and the loop product\n",
      "oai:arXiv.org:0704.0078 Linear perturbations of matched spacetimes: the gauge problem and background symmetries\n",
      "oai:arXiv.org:0704.0065 Littlewood-Richardson polynomials\n",
      "oai:arXiv.org:0704.0021 Molecular Synchronization Waves in Arrays of Allosterically Regulated Enzymes\n",
      "oai:arXiv.org:0704.0096 Much ado about 248\n",
      "oai:arXiv.org:0704.0064 Nilpotent symmetry invariance in the superfield formulation: the (non-)Abelian 1-form gauge theories\n",
      "oai:arXiv.org:0704.0043 Nonequilibrium entropy limiters in lattice Boltzmann methods\n",
      "oai:arXiv.org:0704.0008 Numerical solution of shock and ramp compression for general material properties\n",
      "oai:arXiv.org:0704.0079 Operator algebras associated with unitary commutation relations\n",
      "oai:arXiv.org:0704.0067 Order of Epitaxial Self-Assembled Quantum Dots: Linear Analysis\n",
      "oai:arXiv.org:0704.0034 Origin of adaptive mutants: a quantum measurement?\n",
      "oai:arXiv.org:0704.0013 $p$-adic Limit of Weakly Holomorphic Modular Forms of Half Integral Weight\n",
      "oai:arXiv.org:0704.0071 Pairwise comparisons of typological profiles (of languages)\n",
      "oai:arXiv.org:0704.0010 Partial cubes: structures, characterizations, and constructions\n",
      "oai:arXiv.org:0704.0028 Pfaffians, hafnians and products of real linear functionals\n",
      "oai:arXiv.org:0704.0056 Phase diagram of Gaussian-core nematics\n",
      "oai:arXiv.org:0704.0026 Placeholder Substructures II: Meta-Fractals, Made of Box-Kites, Fill Infinite-Dimensional Skies\n",
      "oai:arXiv.org:0704.0032 Probing non-standard neutrino interactions with supernova neutrinos\n",
      "oai:arXiv.org:0704.0081 Quantum Deformations of Relativistic Symmetries\n",
      "oai:arXiv.org:0704.0052 Quantum Field Theory on Curved Backgrounds. II. Spacetime Symmetries\n",
      "oai:arXiv.org:0704.0041 Quantum Group of Isometries in Classical and Noncommutative Geometry\n",
      "oai:arXiv.org:0704.0090 Real Options for Project Schedules (ROPS)\n",
      "oai:arXiv.org:0704.0039 Scalar radius of the pion and zeros in the form factor\n",
      "oai:arXiv.org:0704.0080 Shaping the Globular Cluster Mass Function by Stellar-Dynamical Evaporation\n",
      "oai:arXiv.org:0704.0088 Some new experimental photonic flame effect features\n",
      "oai:arXiv.org:0704.0002 Sparsity-certifying Graph Decompositions\n",
      "oai:arXiv.org:0704.0017 Spectroscopic Observations of the Intermediate Polar EX Hydrae in Quiescence\n",
      "oai:arXiv.org:0704.0025 Spectroscopic Properties of Polarons in Strongly Correlated Systems by Exact Diagrammatic Monte Carlo Method\n",
      "oai:arXiv.org:0704.0075 Strong decays of charmed baryons\n",
      "oai:arXiv.org:0704.0072 The decomposition method and Maple procedure for finding first integrals of nonlinear PDEs of any order with any number of independent variables\n",
      "oai:arXiv.org:0704.0037 The discrete dipole approximation for simulation of light scattering by particles much larger than the wavelength\n",
      "oai:arXiv.org:0704.0003 The evolution of the Earth-Moon system based on the dark matter field fluid model\n",
      "oai:arXiv.org:0704.0054 The Hardy-Lorentz Spaces $H^{p,q}(R^n)$\n",
      "oai:arXiv.org:0704.0094 Timing and Lensing of the Colliding Bullet Clusters: barely enough time and gravity to accelerate the bullet\n",
      "oai:arXiv.org:0704.0100 Topology Change of Black Holes\n",
      "oai:arXiv.org:0704.0030 Tuning correlation effects with electron-phonon interactions\n",
      "oai:arXiv.org:0704.0077 Universal Forces and the Dark Energy Problem\n"
     ]
    }
   ],
   "source": [
    "output = []\n",
    "for arg_chunk, id_chunk in zip(chunker(argslist, 100), chunker(idslist, 100)):\n",
    "    exec_result = con.execute(sql_text(query), titles=tuple(arg_chunk))\n",
    "    for mag_id, title in exec_result.fetchall():\n",
    "        idx = arg_chunk.index(title)\n",
    "        output.append(dict(arxiv_id=id_chunk[idx], mag_id=mag_id))"
   ]
  },
  {
   "cell_type": "code",
   "execution_count": null,
   "metadata": {},
   "outputs": [],
   "source": [
    "pd.DataFrame(output).to_json(\"data/mag_arxiv_match.json\", orient=\"records\")"
   ]
  }
 ],
 "metadata": {
  "kernelspec": {
   "display_name": "Python [conda env:py36]",
   "language": "python",
   "name": "conda-env-py36-py"
  },
  "language_info": {
   "codemirror_mode": {
    "name": "ipython",
    "version": 3
   },
   "file_extension": ".py",
   "mimetype": "text/x-python",
   "name": "python",
   "nbconvert_exporter": "python",
   "pygments_lexer": "ipython3",
   "version": "3.6.3"
  }
 },
 "nbformat": 4,
 "nbformat_minor": 2
}
